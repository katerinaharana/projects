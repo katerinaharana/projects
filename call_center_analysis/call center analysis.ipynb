{
 "cells": [
  {
   "cell_type": "code",
   "execution_count": 14,
   "id": "b0730066-6d04-4cdd-b434-056f731359c3",
   "metadata": {},
   "outputs": [
    {
     "data": {
      "text/html": [
       "<div>\n",
       "<style scoped>\n",
       "    .dataframe tbody tr th:only-of-type {\n",
       "        vertical-align: middle;\n",
       "    }\n",
       "\n",
       "    .dataframe tbody tr th {\n",
       "        vertical-align: top;\n",
       "    }\n",
       "\n",
       "    .dataframe thead th {\n",
       "        text-align: right;\n",
       "    }\n",
       "</style>\n",
       "<table border=\"1\" class=\"dataframe\">\n",
       "  <thead>\n",
       "    <tr style=\"text-align: right;\">\n",
       "      <th></th>\n",
       "      <th>Call Id</th>\n",
       "      <th>Agent</th>\n",
       "      <th>Date</th>\n",
       "      <th>Time</th>\n",
       "      <th>Topic</th>\n",
       "      <th>Answered (Y/N)</th>\n",
       "      <th>Resolved</th>\n",
       "      <th>Speed of answer in seconds</th>\n",
       "      <th>AvgTalkDuration</th>\n",
       "      <th>Satisfaction rating</th>\n",
       "    </tr>\n",
       "  </thead>\n",
       "  <tbody>\n",
       "    <tr>\n",
       "      <th>0</th>\n",
       "      <td>ID0001</td>\n",
       "      <td>Diane</td>\n",
       "      <td>2021-01-01</td>\n",
       "      <td>09:12:58</td>\n",
       "      <td>Contract related</td>\n",
       "      <td>Y</td>\n",
       "      <td>Y</td>\n",
       "      <td>109.0</td>\n",
       "      <td>00:02:23</td>\n",
       "      <td>3.0</td>\n",
       "    </tr>\n",
       "    <tr>\n",
       "      <th>1</th>\n",
       "      <td>ID0002</td>\n",
       "      <td>Becky</td>\n",
       "      <td>2021-01-01</td>\n",
       "      <td>09:12:58</td>\n",
       "      <td>Technical Support</td>\n",
       "      <td>Y</td>\n",
       "      <td>N</td>\n",
       "      <td>70.0</td>\n",
       "      <td>00:04:02</td>\n",
       "      <td>3.0</td>\n",
       "    </tr>\n",
       "    <tr>\n",
       "      <th>2</th>\n",
       "      <td>ID0003</td>\n",
       "      <td>Stewart</td>\n",
       "      <td>2021-01-01</td>\n",
       "      <td>09:47:31</td>\n",
       "      <td>Contract related</td>\n",
       "      <td>Y</td>\n",
       "      <td>Y</td>\n",
       "      <td>10.0</td>\n",
       "      <td>00:02:11</td>\n",
       "      <td>3.0</td>\n",
       "    </tr>\n",
       "    <tr>\n",
       "      <th>3</th>\n",
       "      <td>ID0004</td>\n",
       "      <td>Greg</td>\n",
       "      <td>2021-01-01</td>\n",
       "      <td>09:47:31</td>\n",
       "      <td>Contract related</td>\n",
       "      <td>Y</td>\n",
       "      <td>Y</td>\n",
       "      <td>53.0</td>\n",
       "      <td>00:00:37</td>\n",
       "      <td>2.0</td>\n",
       "    </tr>\n",
       "    <tr>\n",
       "      <th>4</th>\n",
       "      <td>ID0005</td>\n",
       "      <td>Becky</td>\n",
       "      <td>2021-01-01</td>\n",
       "      <td>10:00:29</td>\n",
       "      <td>Payment related</td>\n",
       "      <td>Y</td>\n",
       "      <td>Y</td>\n",
       "      <td>95.0</td>\n",
       "      <td>00:01:00</td>\n",
       "      <td>3.0</td>\n",
       "    </tr>\n",
       "    <tr>\n",
       "      <th>...</th>\n",
       "      <td>...</td>\n",
       "      <td>...</td>\n",
       "      <td>...</td>\n",
       "      <td>...</td>\n",
       "      <td>...</td>\n",
       "      <td>...</td>\n",
       "      <td>...</td>\n",
       "      <td>...</td>\n",
       "      <td>...</td>\n",
       "      <td>...</td>\n",
       "    </tr>\n",
       "    <tr>\n",
       "      <th>4995</th>\n",
       "      <td>ID4996</td>\n",
       "      <td>Jim</td>\n",
       "      <td>2021-03-31</td>\n",
       "      <td>16:37:55</td>\n",
       "      <td>Payment related</td>\n",
       "      <td>Y</td>\n",
       "      <td>Y</td>\n",
       "      <td>22.0</td>\n",
       "      <td>00:05:40</td>\n",
       "      <td>1.0</td>\n",
       "    </tr>\n",
       "    <tr>\n",
       "      <th>4996</th>\n",
       "      <td>ID4997</td>\n",
       "      <td>Diane</td>\n",
       "      <td>2021-03-31</td>\n",
       "      <td>16:45:07</td>\n",
       "      <td>Payment related</td>\n",
       "      <td>Y</td>\n",
       "      <td>Y</td>\n",
       "      <td>100.0</td>\n",
       "      <td>00:03:16</td>\n",
       "      <td>3.0</td>\n",
       "    </tr>\n",
       "    <tr>\n",
       "      <th>4997</th>\n",
       "      <td>ID4998</td>\n",
       "      <td>Diane</td>\n",
       "      <td>2021-03-31</td>\n",
       "      <td>16:53:46</td>\n",
       "      <td>Payment related</td>\n",
       "      <td>Y</td>\n",
       "      <td>Y</td>\n",
       "      <td>84.0</td>\n",
       "      <td>00:01:49</td>\n",
       "      <td>4.0</td>\n",
       "    </tr>\n",
       "    <tr>\n",
       "      <th>4998</th>\n",
       "      <td>ID4999</td>\n",
       "      <td>Jim</td>\n",
       "      <td>2021-03-31</td>\n",
       "      <td>17:02:24</td>\n",
       "      <td>Streaming</td>\n",
       "      <td>Y</td>\n",
       "      <td>Y</td>\n",
       "      <td>98.0</td>\n",
       "      <td>00:00:58</td>\n",
       "      <td>5.0</td>\n",
       "    </tr>\n",
       "    <tr>\n",
       "      <th>4999</th>\n",
       "      <td>ID5000</td>\n",
       "      <td>Diane</td>\n",
       "      <td>2021-03-31</td>\n",
       "      <td>17:39:50</td>\n",
       "      <td>Contract related</td>\n",
       "      <td>N</td>\n",
       "      <td>N</td>\n",
       "      <td>NaN</td>\n",
       "      <td>NaN</td>\n",
       "      <td>NaN</td>\n",
       "    </tr>\n",
       "  </tbody>\n",
       "</table>\n",
       "<p>5000 rows × 10 columns</p>\n",
       "</div>"
      ],
      "text/plain": [
       "     Call Id    Agent        Date      Time              Topic Answered (Y/N)  \\\n",
       "0     ID0001    Diane  2021-01-01  09:12:58   Contract related              Y   \n",
       "1     ID0002    Becky  2021-01-01  09:12:58  Technical Support              Y   \n",
       "2     ID0003  Stewart  2021-01-01  09:47:31   Contract related              Y   \n",
       "3     ID0004     Greg  2021-01-01  09:47:31   Contract related              Y   \n",
       "4     ID0005    Becky  2021-01-01  10:00:29    Payment related              Y   \n",
       "...      ...      ...         ...       ...                ...            ...   \n",
       "4995  ID4996      Jim  2021-03-31  16:37:55    Payment related              Y   \n",
       "4996  ID4997    Diane  2021-03-31  16:45:07    Payment related              Y   \n",
       "4997  ID4998    Diane  2021-03-31  16:53:46    Payment related              Y   \n",
       "4998  ID4999      Jim  2021-03-31  17:02:24          Streaming              Y   \n",
       "4999  ID5000    Diane  2021-03-31  17:39:50   Contract related              N   \n",
       "\n",
       "     Resolved  Speed of answer in seconds AvgTalkDuration  Satisfaction rating  \n",
       "0           Y                       109.0        00:02:23                  3.0  \n",
       "1           N                        70.0        00:04:02                  3.0  \n",
       "2           Y                        10.0        00:02:11                  3.0  \n",
       "3           Y                        53.0        00:00:37                  2.0  \n",
       "4           Y                        95.0        00:01:00                  3.0  \n",
       "...       ...                         ...             ...                  ...  \n",
       "4995        Y                        22.0        00:05:40                  1.0  \n",
       "4996        Y                       100.0        00:03:16                  3.0  \n",
       "4997        Y                        84.0        00:01:49                  4.0  \n",
       "4998        Y                        98.0        00:00:58                  5.0  \n",
       "4999        N                         NaN             NaN                  NaN  \n",
       "\n",
       "[5000 rows x 10 columns]"
      ]
     },
     "execution_count": 14,
     "metadata": {},
     "output_type": "execute_result"
    }
   ],
   "source": [
    "import pandas as pd\n",
    "import matplotlib.pyplot as plt\n",
    "import seaborn as sns\n",
    "data = pd.read_excel('C:/Users/Katerina/Downloads/01 Call-Center-Dataset.xlsx')\n",
    "data"
   ]
  },
  {
   "cell_type": "code",
   "execution_count": 22,
   "id": "819be8bf-e090-461e-a295-ea11dbea7a5f",
   "metadata": {},
   "outputs": [
    {
     "data": {
      "text/plain": [
       "(5000, 10)"
      ]
     },
     "execution_count": 22,
     "metadata": {},
     "output_type": "execute_result"
    }
   ],
   "source": [
    "data.shape\n"
   ]
  },
  {
   "cell_type": "code",
   "execution_count": 15,
   "id": "e042cd3a-a12b-40bd-bff5-a9a073a6305f",
   "metadata": {},
   "outputs": [
    {
     "data": {
      "text/plain": [
       "Call Id                         0\n",
       "Agent                           0\n",
       "Date                            0\n",
       "Time                            0\n",
       "Topic                           0\n",
       "Answered (Y/N)                  0\n",
       "Resolved                        0\n",
       "Speed of answer in seconds    946\n",
       "AvgTalkDuration               946\n",
       "Satisfaction rating           946\n",
       "dtype: int64"
      ]
     },
     "execution_count": 15,
     "metadata": {},
     "output_type": "execute_result"
    }
   ],
   "source": [
    "data.isna().sum()"
   ]
  },
  {
   "cell_type": "code",
   "execution_count": 36,
   "id": "d5957acb-38ce-4e50-833c-f8044a84826c",
   "metadata": {},
   "outputs": [
    {
     "name": "stdout",
     "output_type": "stream",
     "text": [
      "\n",
      "Handled missing values by replacing with mean.\n"
     ]
    }
   ],
   "source": [
    "# Handle missing values by filling with the mean\n",
    "data.fillna(data.mean(numeric_only=True), inplace=True)\n",
    "print(\"\\nHandled missing values by replacing with mean.\")"
   ]
  },
  {
   "cell_type": "code",
   "execution_count": 38,
   "id": "e6eba495-0d04-421a-9f86-0a8c6dd5eca9",
   "metadata": {},
   "outputs": [],
   "source": [
    "def convert_time(row):\n",
    "    '''Return average talk duration as seconds'''\n",
    "    return pd.Timedelta(hours=row.hour,minutes=row.minute,seconds=row.second).total_seconds() if pd.notnull(row) else None"
   ]
  },
  {
   "cell_type": "code",
   "execution_count": 40,
   "id": "9dfa07c3-8711-47f3-9bb2-1eb436083604",
   "metadata": {},
   "outputs": [
    {
     "data": {
      "text/plain": [
       "0       143.0\n",
       "1       242.0\n",
       "2       131.0\n",
       "3        37.0\n",
       "4        60.0\n",
       "        ...  \n",
       "4995    340.0\n",
       "4996    196.0\n",
       "4997    109.0\n",
       "4998     58.0\n",
       "4999      NaN\n",
       "Name: AvgTalkDuration, Length: 5000, dtype: float64"
      ]
     },
     "execution_count": 40,
     "metadata": {},
     "output_type": "execute_result"
    }
   ],
   "source": [
    "#confirm how it works\n",
    "data.AvgTalkDuration.apply(lambda x: convert_time(x))"
   ]
  },
  {
   "cell_type": "code",
   "execution_count": 42,
   "id": "ae664545-2725-4af6-9a57-86c27aefeff8",
   "metadata": {},
   "outputs": [
    {
     "data": {
      "text/html": [
       "<div>\n",
       "<style scoped>\n",
       "    .dataframe tbody tr th:only-of-type {\n",
       "        vertical-align: middle;\n",
       "    }\n",
       "\n",
       "    .dataframe tbody tr th {\n",
       "        vertical-align: top;\n",
       "    }\n",
       "\n",
       "    .dataframe thead th {\n",
       "        text-align: right;\n",
       "    }\n",
       "</style>\n",
       "<table border=\"1\" class=\"dataframe\">\n",
       "  <thead>\n",
       "    <tr style=\"text-align: right;\">\n",
       "      <th></th>\n",
       "      <th>Call Id</th>\n",
       "      <th>Agent</th>\n",
       "      <th>Date</th>\n",
       "      <th>Time</th>\n",
       "      <th>Topic</th>\n",
       "      <th>Answered (Y/N)</th>\n",
       "      <th>Resolved</th>\n",
       "      <th>Speed of answer in seconds</th>\n",
       "      <th>AvgTalkDuration</th>\n",
       "      <th>Satisfaction rating</th>\n",
       "    </tr>\n",
       "  </thead>\n",
       "  <tbody>\n",
       "    <tr>\n",
       "      <th>0</th>\n",
       "      <td>ID0001</td>\n",
       "      <td>Diane</td>\n",
       "      <td>2021-01-01</td>\n",
       "      <td>09:12:58</td>\n",
       "      <td>Contract related</td>\n",
       "      <td>Y</td>\n",
       "      <td>Y</td>\n",
       "      <td>109.0</td>\n",
       "      <td>143.0</td>\n",
       "      <td>3.0</td>\n",
       "    </tr>\n",
       "    <tr>\n",
       "      <th>1</th>\n",
       "      <td>ID0002</td>\n",
       "      <td>Becky</td>\n",
       "      <td>2021-01-01</td>\n",
       "      <td>09:12:58</td>\n",
       "      <td>Technical Support</td>\n",
       "      <td>Y</td>\n",
       "      <td>N</td>\n",
       "      <td>70.0</td>\n",
       "      <td>242.0</td>\n",
       "      <td>3.0</td>\n",
       "    </tr>\n",
       "    <tr>\n",
       "      <th>2</th>\n",
       "      <td>ID0003</td>\n",
       "      <td>Stewart</td>\n",
       "      <td>2021-01-01</td>\n",
       "      <td>09:47:31</td>\n",
       "      <td>Contract related</td>\n",
       "      <td>Y</td>\n",
       "      <td>Y</td>\n",
       "      <td>10.0</td>\n",
       "      <td>131.0</td>\n",
       "      <td>3.0</td>\n",
       "    </tr>\n",
       "    <tr>\n",
       "      <th>3</th>\n",
       "      <td>ID0004</td>\n",
       "      <td>Greg</td>\n",
       "      <td>2021-01-01</td>\n",
       "      <td>09:47:31</td>\n",
       "      <td>Contract related</td>\n",
       "      <td>Y</td>\n",
       "      <td>Y</td>\n",
       "      <td>53.0</td>\n",
       "      <td>37.0</td>\n",
       "      <td>2.0</td>\n",
       "    </tr>\n",
       "    <tr>\n",
       "      <th>4</th>\n",
       "      <td>ID0005</td>\n",
       "      <td>Becky</td>\n",
       "      <td>2021-01-01</td>\n",
       "      <td>10:00:29</td>\n",
       "      <td>Payment related</td>\n",
       "      <td>Y</td>\n",
       "      <td>Y</td>\n",
       "      <td>95.0</td>\n",
       "      <td>60.0</td>\n",
       "      <td>3.0</td>\n",
       "    </tr>\n",
       "  </tbody>\n",
       "</table>\n",
       "</div>"
      ],
      "text/plain": [
       "  Call Id    Agent        Date      Time              Topic Answered (Y/N)  \\\n",
       "0  ID0001    Diane  2021-01-01  09:12:58   Contract related              Y   \n",
       "1  ID0002    Becky  2021-01-01  09:12:58  Technical Support              Y   \n",
       "2  ID0003  Stewart  2021-01-01  09:47:31   Contract related              Y   \n",
       "3  ID0004     Greg  2021-01-01  09:47:31   Contract related              Y   \n",
       "4  ID0005    Becky  2021-01-01  10:00:29    Payment related              Y   \n",
       "\n",
       "  Resolved  Speed of answer in seconds  AvgTalkDuration  Satisfaction rating  \n",
       "0        Y                       109.0            143.0                  3.0  \n",
       "1        N                        70.0            242.0                  3.0  \n",
       "2        Y                        10.0            131.0                  3.0  \n",
       "3        Y                        53.0             37.0                  2.0  \n",
       "4        Y                        95.0             60.0                  3.0  "
      ]
     },
     "execution_count": 42,
     "metadata": {},
     "output_type": "execute_result"
    }
   ],
   "source": [
    "#apply total seconds function\n",
    "data['AvgTalkDuration'] = data.AvgTalkDuration.apply(lambda x: convert_time(x))\n",
    "data.head()"
   ]
  },
  {
   "cell_type": "code",
   "execution_count": 56,
   "id": "f524a9fe-68b2-4428-8586-53d57a5f8057",
   "metadata": {},
   "outputs": [
    {
     "name": "stdout",
     "output_type": "stream",
     "text": [
      "\n",
      "Available Dates in the Dataset:\n",
      "\n",
      "<DatetimeArray>\n",
      "['2021-01-01 00:00:00', '2021-01-02 00:00:00', '2021-01-03 00:00:00',\n",
      " '2021-01-04 00:00:00', '2021-01-05 00:00:00', '2021-01-06 00:00:00',\n",
      " '2021-01-07 00:00:00', '2021-01-08 00:00:00', '2021-01-09 00:00:00',\n",
      " '2021-01-10 00:00:00', '2021-01-11 00:00:00', '2021-01-12 00:00:00',\n",
      " '2021-01-13 00:00:00', '2021-01-14 00:00:00', '2021-01-15 00:00:00',\n",
      " '2021-01-16 00:00:00', '2021-01-17 00:00:00', '2021-01-18 00:00:00',\n",
      " '2021-01-19 00:00:00', '2021-01-20 00:00:00', '2021-01-21 00:00:00',\n",
      " '2021-01-22 00:00:00', '2021-01-23 00:00:00', '2021-01-24 00:00:00',\n",
      " '2021-01-25 00:00:00', '2021-01-26 00:00:00', '2021-01-27 00:00:00',\n",
      " '2021-01-28 00:00:00', '2021-01-29 00:00:00', '2021-01-30 00:00:00',\n",
      " '2021-01-31 00:00:00', '2021-02-01 00:00:00', '2021-02-02 00:00:00',\n",
      " '2021-02-03 00:00:00', '2021-02-04 00:00:00', '2021-02-05 00:00:00',\n",
      " '2021-02-06 00:00:00', '2021-02-07 00:00:00', '2021-02-08 00:00:00',\n",
      " '2021-02-09 00:00:00', '2021-02-10 00:00:00', '2021-02-11 00:00:00',\n",
      " '2021-02-12 00:00:00', '2021-02-13 00:00:00', '2021-02-14 00:00:00',\n",
      " '2021-02-15 00:00:00', '2021-02-16 00:00:00', '2021-02-17 00:00:00',\n",
      " '2021-02-18 00:00:00', '2021-02-19 00:00:00', '2021-02-20 00:00:00',\n",
      " '2021-02-21 00:00:00', '2021-02-22 00:00:00', '2021-02-23 00:00:00',\n",
      " '2021-02-24 00:00:00', '2021-02-25 00:00:00', '2021-02-26 00:00:00',\n",
      " '2021-02-27 00:00:00', '2021-02-28 00:00:00', '2021-03-01 00:00:00',\n",
      " '2021-03-02 00:00:00', '2021-03-03 00:00:00', '2021-03-04 00:00:00',\n",
      " '2021-03-05 00:00:00', '2021-03-06 00:00:00', '2021-03-07 00:00:00',\n",
      " '2021-03-08 00:00:00', '2021-03-09 00:00:00', '2021-03-10 00:00:00',\n",
      " '2021-03-11 00:00:00', '2021-03-12 00:00:00', '2021-03-13 00:00:00',\n",
      " '2021-03-14 00:00:00', '2021-03-15 00:00:00', '2021-03-16 00:00:00',\n",
      " '2021-03-17 00:00:00', '2021-03-18 00:00:00', '2021-03-19 00:00:00',\n",
      " '2021-03-20 00:00:00', '2021-03-21 00:00:00', '2021-03-22 00:00:00',\n",
      " '2021-03-23 00:00:00', '2021-03-24 00:00:00', '2021-03-25 00:00:00',\n",
      " '2021-03-26 00:00:00', '2021-03-27 00:00:00', '2021-03-28 00:00:00',\n",
      " '2021-03-29 00:00:00', '2021-03-30 00:00:00', '2021-03-31 00:00:00']\n",
      "Length: 90, dtype: datetime64[ns]\n"
     ]
    }
   ],
   "source": [
    "# Check available dates in the dataset\n",
    "if 'Date' in data.columns:\n",
    "    data['Date'] = pd.to_datetime(data['Date'])\n",
    "    print(\"\\nAvailable Dates in the Dataset:\\n\")\n",
    "    print(data['Date'].unique())"
   ]
  },
  {
   "cell_type": "code",
   "execution_count": 50,
   "id": "37900487-919f-49e4-bd69-74d1317a9fb5",
   "metadata": {},
   "outputs": [
    {
     "data": {
      "text/plain": [
       "Answered (Y/N)\n",
       "Y    4054\n",
       "N     946\n",
       "Name: count, dtype: int64"
      ]
     },
     "execution_count": 50,
     "metadata": {},
     "output_type": "execute_result"
    }
   ],
   "source": [
    "#confirm call response status\n",
    "data['Answered (Y/N)'].value_counts()\n",
    "# Visualize key aspects (example visualizations)"
   ]
  },
  {
   "cell_type": "code",
   "execution_count": 46,
   "id": "327aa430-4922-4667-bd86-eada6a133d00",
   "metadata": {},
   "outputs": [
    {
     "data": {
      "image/png": "[encoded data removed]",
      "text/plain": [
       "<Figure size 1000x600 with 1 Axes>"
      ]
     },
     "metadata": {},
     "output_type": "display_data"
    }
   ],
   "source": [
    "\n",
    "plt.figure(figsize=(10, 6))\n",
    "sns.countplot(x='Agent', data=data)  # Replace 'Agent' with an actual categorical column\n",
    "plt.title(\"Number of Interactions by Agent\")\n",
    "plt.xticks(rotation=45)\n",
    "plt.show()"
   ]
  },
  {
   "cell_type": "code",
   "execution_count": 63,
   "id": "e376f4ef-802e-4285-a987-643bfbf4c80a",
   "metadata": {},
   "outputs": [
    {
     "name": "stdout",
     "output_type": "stream",
     "text": [
      "Average Resolution Time by Agent:\n",
      " Agent\n",
      "Diane      218.954092\n",
      "Becky      220.009671\n",
      "Martha     223.725681\n",
      "Joe        224.101240\n",
      "Stewart    226.205451\n",
      "Greg       226.802789\n",
      "Jim        228.113806\n",
      "Dan        231.189293\n",
      "Name: AvgTalkDuration, dtype: float64\n"
     ]
    }
   ],
   "source": [
    "# Example: Analyze resolution time by agent\n",
    "resolution_by_agent = data.groupby('Agent')['AvgTalkDuration'].mean().sort_values()\n",
    "print(\"Average Resolution Time by Agent:\\n\", resolution_by_agent)"
   ]
  },
  {
   "cell_type": "code",
   "execution_count": 71,
   "id": "bfdd951e-6022-4e14-baaa-eb91bad260b2",
   "metadata": {},
   "outputs": [
    {
     "name": "stdout",
     "output_type": "stream",
     "text": [
      "Diane: \n",
      " Calls:633, Average rating: 3.4048481362584573\n",
      "Becky: \n",
      " Calls:631, Average rating: 3.3771868992061997\n",
      "Stewart: \n",
      " Calls:582, Average rating: 3.400984475898396\n",
      "Greg: \n",
      " Calls:624, Average rating: 3.404220111823714\n",
      "Jim: \n",
      " Calls:666, Average rating: 3.3955882374727957\n",
      "Joe: \n",
      " Calls:593, Average rating: 3.343991860307435\n",
      "Martha: \n",
      " Calls:638, Average rating: 3.4577436581077086\n",
      "Dan: \n",
      " Calls:633, Average rating: 3.439795774422859\n"
     ]
    }
   ],
   "source": [
    "#average satisfaction rating by agent\n",
    "for agent in data.Agent.unique():\n",
    "    print('{}: \\n Calls:{}, Average rating: {}'.format(agent,data[data.Agent==agent].shape[0],data[data.Agent==agent]['Satisfaction rating'].mean()))"
   ]
  },
  {
   "cell_type": "code",
   "execution_count": null,
   "id": "6fcdacf1-e586-498d-b807-436dc9d7f0ed",
   "metadata": {},
   "outputs": [],
   "source": []
  }
 ],
 "metadata": {
  "kernelspec": {
   "display_name": "Python [conda env:base] *",
   "language": "python",
   "name": "conda-base-py"
  },
  "language_info": {
   "codemirror_mode": {
    "name": "ipython",
    "version": 3
   },
   "file_extension": ".py",
   "mimetype": "text/x-python",
   "name": "python",
   "nbconvert_exporter": "python",
   "pygments_lexer": "ipython3",
   "version": "3.12.7"
  }
 },
 "nbformat": 4,
 "nbformat_minor": 5
}
